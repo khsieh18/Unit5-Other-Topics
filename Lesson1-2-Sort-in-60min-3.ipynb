{
 "cells": [
  {
   "cell_type": "code",
   "execution_count": 1,
   "metadata": {},
   "outputs": [],
   "source": [
    "import statistics as sta"
   ]
  },
  {
   "cell_type": "code",
   "execution_count": 2,
   "metadata": {},
   "outputs": [],
   "source": [
    "def quick_sort(A):\n",
    "    quick_sort2(A,0,len(A)-1)"
   ]
  },
  {
   "cell_type": "code",
   "execution_count": 3,
   "metadata": {},
   "outputs": [],
   "source": [
    "def quick_sort2(A,low,hi):\n",
    "    if low < hi:\n",
    "        p=partition(A,low,hi)\n",
    "        if (p-1)-low > 1:\n",
    "            quick_sort2(A,low,p-1)\n",
    "        elif (p-1)-low == 1:\n",
    "            if A[low] > A[p-1]:\n",
    "                A[low],A[p-1]=A[p-1],A[low]\n",
    "        if hi-(p+1) > 1:\n",
    "            quick_sort2(A,p+1,hi)\n",
    "        elif hi-(p+1) == 1:\n",
    "            if A[p+1] > A[hi]:\n",
    "                A[p+1],A[hi]=A[hi],A[p+1]"
   ]
  },
  {
   "cell_type": "code",
   "execution_count": 4,
   "metadata": {},
   "outputs": [],
   "source": [
    "def get_pivot(A,low,hi):\n",
    "    mid=(hi+low)//2\n",
    "    temp_list=[A[low],A[mid],A[hi]]\n",
    "    pivot_value=int(sta.median(temp_list))\n",
    "    pivot_index=A.index(pivot_value)\n",
    "    return pivot_index, pivot_value"
   ]
  },
  {
   "cell_type": "code",
   "execution_count": 5,
   "metadata": {},
   "outputs": [],
   "source": [
    "def partition(A,low,hi):\n",
    "    pivot_index,pivot_value=get_pivot(A,low,hi)\n",
    "    A[pivot_index],A[low]=A[low],A[pivot_index]\n",
    "    border=low+1\n",
    "    \n",
    "    for i in range(border+1,hi+1):\n",
    "        print(i)\n",
    "        if A[i] < A[low]:\n",
    "            A[border],A[i]=A[i],A[border]\n",
    "            if i != hi:\n",
    "                border+=1\n",
    "    \n",
    "    A[low],A[border]=A[border],A[low]\n",
    "    \n",
    "    \n",
    "    return border\n",
    "    "
   ]
  },
  {
   "cell_type": "code",
   "execution_count": 6,
   "metadata": {},
   "outputs": [
    {
     "name": "stdout",
     "output_type": "stream",
     "text": [
      "2\n",
      "3\n",
      "4\n"
     ]
    }
   ],
   "source": [
    "A=[5,4,3,2,1]\n",
    "quick_sort(A)"
   ]
  }
 ],
 "metadata": {
  "kernelspec": {
   "display_name": "Python 3",
   "language": "python",
   "name": "python3"
  },
  "language_info": {
   "codemirror_mode": {
    "name": "ipython",
    "version": 3
   },
   "file_extension": ".py",
   "mimetype": "text/x-python",
   "name": "python",
   "nbconvert_exporter": "python",
   "pygments_lexer": "ipython3",
   "version": "3.7.1"
  }
 },
 "nbformat": 4,
 "nbformat_minor": 2
}
