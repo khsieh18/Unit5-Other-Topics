{
 "cells": [
  {
   "cell_type": "code",
   "execution_count": 1,
   "metadata": {},
   "outputs": [],
   "source": [
    "import statistics as sta\n",
    "import random"
   ]
  },
  {
   "cell_type": "code",
   "execution_count": 2,
   "metadata": {},
   "outputs": [],
   "source": [
    "def quick_sort(A):\n",
    "    quick_sort2(A,0,len(A)-1)"
   ]
  },
  {
   "cell_type": "code",
   "execution_count": 3,
   "metadata": {},
   "outputs": [],
   "source": [
    "def quick_sort2(A,low,hi):\n",
    "    if low < hi:\n",
    "        p=partition(A,low,hi)\n",
    "        \n",
    "        \n",
    "        \n",
    "        if (p-1)-low > 1:\n",
    "            quick_sort2(A,low,p-1)\n",
    "        elif (p-1)-low == 1:\n",
    "            if A[low] > A[p-1]:\n",
    "                A[low],A[p-1]=A[p-1],A[low]\n",
    "        if hi-(p+1) > 1:\n",
    "            quick_sort2(A,p+1,hi)\n",
    "        elif hi-(p+1) == 1:\n",
    "            if A[p+1] > A[hi]:\n",
    "                A[p+1],A[hi]=A[hi],A[p+1]"
   ]
  },
  {
   "cell_type": "code",
   "execution_count": 4,
   "metadata": {},
   "outputs": [],
   "source": [
    "def partition(A,low,hi):\n",
    "    temp=A[low:hi+1]\n",
    "    \n",
    "    pivot_value=random.choice(temp)\n",
    "    \n",
    "    pivot_index=A.index(pivot_value)\n",
    "    \n",
    "    print(\"pivot_value: \",pivot_value)\n",
    "    print(\"pivot_index: \",pivot_index)\n",
    "    \n",
    "    A[pivot_index],A[low]=A[low],A[pivot_index]\n",
    "    border=low+1\n",
    "        \n",
    "    for i in range(border+1,hi+1):\n",
    "        if A[i] < A[low]:\n",
    "            A[border],A[i]=A[i],A[border]\n",
    "            if i != hi:\n",
    "                border+=1\n",
    "        print(\"A:\",A)\n",
    "        \n",
    "    A[low],A[border]=A[border],A[low]\n",
    "    \n",
    "    print(\"A:\",A)\n",
    "    print(\"border:\",border)\n",
    "    print()\n",
    "    return border"
   ]
  },
  {
   "cell_type": "code",
   "execution_count": 12,
   "metadata": {
    "scrolled": true
   },
   "outputs": [
    {
     "name": "stdout",
     "output_type": "stream",
     "text": [
      "pivot_value:  3\n",
      "pivot_index:  0\n",
      "A: [3, 5, 4]\n",
      "A: [5, 3, 4]\n",
      "border: 1\n",
      "\n"
     ]
    },
    {
     "data": {
      "text/plain": [
       "[5, 3, 4]"
      ]
     },
     "execution_count": 12,
     "metadata": {},
     "output_type": "execute_result"
    }
   ],
   "source": [
    "A=[3,5,4]\n",
    "quick_sort(A)\n",
    "A"
   ]
  },
  {
   "cell_type": "code",
   "execution_count": 6,
   "metadata": {},
   "outputs": [
    {
     "ename": "NameError",
     "evalue": "name 'xx' is not defined",
     "output_type": "error",
     "traceback": [
      "\u001b[1;31m---------------------------------------------------------------------------\u001b[0m",
      "\u001b[1;31mNameError\u001b[0m                                 Traceback (most recent call last)",
      "\u001b[1;32m<ipython-input-6-ce3af7760f12>\u001b[0m in \u001b[0;36m<module>\u001b[1;34m\u001b[0m\n\u001b[1;32m----> 1\u001b[1;33m \u001b[0mxx\u001b[0m\u001b[1;33m\u001b[0m\u001b[1;33m\u001b[0m\u001b[0m\n\u001b[0m",
      "\u001b[1;31mNameError\u001b[0m: name 'xx' is not defined"
     ]
    }
   ],
   "source": [
    "xx"
   ]
  },
  {
   "cell_type": "code",
   "execution_count": null,
   "metadata": {},
   "outputs": [],
   "source": []
  },
  {
   "cell_type": "code",
   "execution_count": null,
   "metadata": {},
   "outputs": [],
   "source": [
    "import random\n",
    "A=[35,1,3,8,2]\n",
    "random.choice(A)"
   ]
  },
  {
   "cell_type": "code",
   "execution_count": null,
   "metadata": {},
   "outputs": [],
   "source": []
  }
 ],
 "metadata": {
  "kernelspec": {
   "display_name": "Python 3",
   "language": "python",
   "name": "python3"
  },
  "language_info": {
   "codemirror_mode": {
    "name": "ipython",
    "version": 3
   },
   "file_extension": ".py",
   "mimetype": "text/x-python",
   "name": "python",
   "nbconvert_exporter": "python",
   "pygments_lexer": "ipython3",
   "version": "3.7.1"
  }
 },
 "nbformat": 4,
 "nbformat_minor": 2
}
